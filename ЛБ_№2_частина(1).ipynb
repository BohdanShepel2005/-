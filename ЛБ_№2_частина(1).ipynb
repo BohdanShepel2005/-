{
  "nbformat": 4,
  "nbformat_minor": 0,
  "metadata": {
    "colab": {
      "provenance": [],
      "authorship_tag": "ABX9TyOhIwgZSoQ0vjlCZx8z0Snv",
      "include_colab_link": true
    },
    "kernelspec": {
      "name": "python3",
      "display_name": "Python 3"
    },
    "language_info": {
      "name": "python"
    }
  },
  "cells": [
    {
      "cell_type": "markdown",
      "metadata": {
        "id": "view-in-github",
        "colab_type": "text"
      },
      "source": [
        "<a href=\"https://colab.research.google.com/github/BohdanShepel2005/Numerical-Methods-of-Programming/blob/main/%D0%9B%D0%91_%E2%84%962_%D1%87%D0%B0%D1%81%D1%82%D0%B8%D0%BD%D0%B0(1).ipynb\" target=\"_parent\"><img src=\"https://colab.research.google.com/assets/colab-badge.svg\" alt=\"Open In Colab\"/></a>"
      ]
    },
    {
      "cell_type": "code",
      "execution_count": 1,
      "metadata": {
        "colab": {
          "base_uri": "https://localhost:8080/"
        },
        "id": "ztyEtDSg6Uoc",
        "outputId": "23957422-c9f8-4b7b-8c78-1eb479e3d1b8"
      },
      "outputs": [
        {
          "output_type": "stream",
          "name": "stdout",
          "text": [
            "Found segment: [-1, 0]\n",
            "Found segment: [1, 2]\n"
          ]
        }
      ],
      "source": [
        "import numpy as np\n",
        "def f(x):\n",
        "    return 3 * pow(x, 4) - 4 * pow(x, 3) + pow(x, 2) - 2 * x - 3\n",
        "def find_segments():\n",
        "    search_range = np.arange(-10, 10, 1)\n",
        "    segments = []\n",
        "    previous_x = f(search_range[0])\n",
        "    for x in search_range[1:]:\n",
        "        x = round(x, 4)\n",
        "        current_x = f(x)\n",
        "        if previous_x * current_x < 0:\n",
        "            segments.append((x - 1, x))\n",
        "        previous_x = current_x\n",
        "    return segments\n",
        "segments = find_segments()\n",
        "for a, b in segments:\n",
        "    print(f'Found segment: [{a}, {b}]')"
      ]
    }
  ]
}