{
  "nbformat": 4,
  "nbformat_minor": 0,
  "metadata": {
    "colab": {
      "provenance": [],
      "authorship_tag": "ABX9TyOXzHhcxJLLbkKmZ3m5zrIQ",
      "include_colab_link": true
    },
    "kernelspec": {
      "name": "python3",
      "display_name": "Python 3"
    },
    "language_info": {
      "name": "python"
    }
  },
  "cells": [
    {
      "cell_type": "markdown",
      "metadata": {
        "id": "view-in-github",
        "colab_type": "text"
      },
      "source": [
        "<a href=\"https://colab.research.google.com/github/BohdanShepel2005/Numerical-Methods-of-Programming/blob/main/%D0%9B%D0%91_%E2%84%962.ipynb\" target=\"_parent\"><img src=\"https://colab.research.google.com/assets/colab-badge.svg\" alt=\"Open In Colab\"/></a>"
      ]
    },
    {
      "cell_type": "code",
      "execution_count": 1,
      "metadata": {
        "colab": {
          "base_uri": "https://localhost:8080/"
        },
        "id": "aPwzloPzZggZ",
        "outputId": "6e956763-a572-46f8-8b7d-cbad212028ce"
      },
      "outputs": [
        {
          "output_type": "stream",
          "name": "stdout",
          "text": [
            "Solution of a nonlinear equation on a segments  [(-1, 0), (1, 2)]\n",
            "x=  -0.61801   - Half division method\n",
            "x=  -0.61797   - Chord method\n",
            "x=  1.61801   - Half division method\n",
            "x=  1.61799   - Chord method\n"
          ]
        }
      ],
      "source": [
        "import numpy as np\n",
        "def f(x):\n",
        "  return 3 * pow(x, 4) - 4 * pow(x, 3) + pow(x, 2) - 2 * x - 3\n",
        "def find_segments():\n",
        "    search_range = np.arange(-100, 100, 1)\n",
        "    previous_x = None\n",
        "    segments = []\n",
        "    for x in search_range:\n",
        "        x = round(x, 4)\n",
        "        current_x = f(x)\n",
        "        if previous_x != None and previous_x * current_x < 0:\n",
        "            segments.append((a, x))\n",
        "        a = x\n",
        "        previous_x = current_x\n",
        "    return segments\n",
        "def rec(a, b, eps):\n",
        "    while (abs(a-b) > eps):\n",
        "        if (f(a) * f((a+b)/2) < 0):\n",
        "            b = (a+b)/2\n",
        "        else:\n",
        "            a = (a+b)/2\n",
        "        x = (a+b)/2\n",
        "    print ('x= ', round(x,5), '  - Half division method')\n",
        "def hord (a,b,eps):\n",
        "  if (f(a) *  ((f(a+eps) - 2*f(a) + f(a-eps)) / (eps**2)) > 0):\n",
        "      x0, xi = a, b\n",
        "  else:\n",
        "      x0, xi = b, a\n",
        "  xi_1 = xi-(xi-x0) * f(xi) / (f(xi)-f(x0))\n",
        "  while (abs(xi_1-xi) > eps):\n",
        "      xi = xi_1\n",
        "      xi_1 = xi-(xi-x0) * f(xi) / (f(xi)-f(x0))\n",
        "  print('x= ', round (xi_1,5) , '  - Chord method')\n",
        "eps=0.0001\n",
        "print ('Solution of a nonlinear equation on a segments ', find_segments())\n",
        "rec (-1, 0,eps)\n",
        "hord (-1,0,eps)\n",
        "rec (1, 2,eps)\n",
        "hord (1,2,eps)"
      ]
    }
  ]
}