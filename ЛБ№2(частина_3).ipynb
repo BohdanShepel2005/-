{
  "nbformat": 4,
  "nbformat_minor": 0,
  "metadata": {
    "colab": {
      "provenance": [],
      "authorship_tag": "ABX9TyPLPCaNTN7CtCKNv4+bVP8H",
      "include_colab_link": true
    },
    "kernelspec": {
      "name": "python3",
      "display_name": "Python 3"
    },
    "language_info": {
      "name": "python"
    }
  },
  "cells": [
    {
      "cell_type": "markdown",
      "metadata": {
        "id": "view-in-github",
        "colab_type": "text"
      },
      "source": [
        "<a href=\"https://colab.research.google.com/github/BohdanShepel2005/Numerical-Methods-of-Programming/blob/main/%D0%9B%D0%91%E2%84%962(%D1%87%D0%B0%D1%81%D1%82%D0%B8%D0%BD%D0%B0_3).ipynb\" target=\"_parent\"><img src=\"https://colab.research.google.com/assets/colab-badge.svg\" alt=\"Open In Colab\"/></a>"
      ]
    },
    {
      "cell_type": "code",
      "execution_count": 1,
      "metadata": {
        "colab": {
          "base_uri": "https://localhost:8080/"
        },
        "id": "6RyxByooGDmb",
        "outputId": "13d57c1b-4405-4dbe-dfc7-e5940b148747"
      },
      "outputs": [
        {
          "output_type": "stream",
          "name": "stdout",
          "text": [
            "Неможливо знайти корінь на вказаному відрізку.\n"
          ]
        }
      ],
      "source": [
        "def hord(a, b, eps):\n",
        "    def f(x):\n",
        "        return 3 * pow(x, 4) - 4 * pow(x, 3) + pow(x, 2) - 2 * x - 3\n",
        "\n",
        "    if f(a) * f(b) >= 0:\n",
        "        print(\"Неможливо знайти корінь на вказаному відрізку.\")\n",
        "        return\n",
        "\n",
        "    while abs(b - a) > eps:\n",
        "        xi = (a * f(b) - b * f(a)) / (f(b) - f(a))\n",
        "        if f(xi) == 0:\n",
        "            break\n",
        "        elif f(a) * f(xi) < 0:\n",
        "            b = xi\n",
        "        else:\n",
        "            a = xi\n",
        "\n",
        "    print('x= ', round(xi, 5), ' - Chord method')\n",
        "a, b = 0., 1.\n",
        "eps = 0.0001\n",
        "hord(a, b, eps)"
      ]
    }
  ]
}