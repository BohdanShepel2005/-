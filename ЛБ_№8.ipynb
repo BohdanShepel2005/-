{
  "nbformat": 4,
  "nbformat_minor": 0,
  "metadata": {
    "colab": {
      "provenance": [],
      "authorship_tag": "ABX9TyM84WbMEB7rKLFSYviwPdTb",
      "include_colab_link": true
    },
    "kernelspec": {
      "name": "python3",
      "display_name": "Python 3"
    },
    "language_info": {
      "name": "python"
    }
  },
  "cells": [
    {
      "cell_type": "markdown",
      "metadata": {
        "id": "view-in-github",
        "colab_type": "text"
      },
      "source": [
        "<a href=\"https://colab.research.google.com/github/BohdanShepel2005/Numerical-Methods-of-Programming/blob/main/%D0%9B%D0%91_%E2%84%968.ipynb\" target=\"_parent\"><img src=\"https://colab.research.google.com/assets/colab-badge.svg\" alt=\"Open In Colab\"/></a>"
      ]
    },
    {
      "cell_type": "code",
      "source": [
        "import numpy as np\n",
        "\n",
        "# Задані точки\n",
        "x = np.array([0.5, 0.9, 1.5, 2.3, 3])\n",
        "y = np.array([1.54, 3.38, 2.53, 1.86, 4.35])\n",
        "n = len(x) - 1\n",
        "h = np.diff(x)\n",
        "a = y\n",
        "b = np.zeros(n)\n",
        "d = np.zeros(n)\n",
        "c = np.zeros(n)\n",
        "alpha = np.zeros(n)\n",
        "\n",
        "for i in range(1, n):\n",
        "    alpha[i] = (3 / h[i]) * (a[i+1] - a[i]) - (3 / h[i-1]) * (a[i] - a[i-1])\n",
        "\n",
        "l = np.ones(n)\n",
        "mu = np.zeros(n)\n",
        "z = np.zeros(n)\n",
        "\n",
        "for i in range(1, n):\n",
        "    l[i] = 2 * (x[i+1] - x[i-1]) - h[i-1] * mu[i-1]\n",
        "    mu[i] = h[i] / l[i]\n",
        "    z[i] = (alpha[i] - h[i-1] * z[i-1]) / l[i]\n",
        "\n",
        "# Виправлення обчислення коефіцієнтів для останнього відрізка\n",
        "c[n-1] = (alpha[n-1] - h[n-2] * z[n-2]) / (2 * (h[n-2] + mu[n-1]))\n",
        "b[n-1] = (a[n] - a[n-1]) / h[n-1] - h[n-1] * (2 * c[n-1] + c[n-2]) / 3\n",
        "d[n-1] = (c[n-1] - c[n-2]) / (3 * h[n-1])\n",
        "\n",
        "for j in range(n - 2, -1, -1):\n",
        "    c[j] = z[j] - mu[j] * c[j+1]\n",
        "    b[j] = (a[j+1] - a[j]) / h[j] - h[j] * (c[j+1] + 2 * c[j]) / 3\n",
        "    d[j] = (c[j+1] - c[j]) / (3 * h[j])\n",
        "\n",
        "# Виведення аналітичного вигляду кубічного сплайна для кожного відрізка\n",
        "for i in range(n):\n",
        "    print(f\"Відрізок {i+1}:\")\n",
        "    print(f\"S_{i}(x) = {a[i]} + {b[i].round(4)}(x - {x[i]}) + {c[i].round(4)}(x - {x[i]})^2 + {d[i].round(4)}(x - {x[i]})^3, x належить [{x[i]}, {x[i+1]}]\")"
      ],
      "metadata": {
        "colab": {
          "base_uri": "https://localhost:8080/"
        },
        "id": "hixsQJVbTDt9",
        "outputId": "203eda7d-08ea-4b48-89a0-c5505c45ea64"
      },
      "execution_count": 3,
      "outputs": [
        {
          "output_type": "stream",
          "name": "stdout",
          "text": [
            "Відрізок 1:\n",
            "S_0(x) = 1.54 + 5.8488(x - 0.5) + 0.0(x - 0.5)^2 + -7.805(x - 0.5)^3, x належить [0.5, 0.9]\n",
            "Відрізок 2:\n",
            "S_1(x) = 3.38 + 2.1024(x - 0.9) + -9.366(x - 0.9)^2 + 5.8348(x - 0.9)^3, x належить [0.9, 1.5]\n",
            "Відрізок 3:\n",
            "S_2(x) = 2.53 + -2.8352(x - 1.5) + 1.1366(x - 1.5)^2 + 1.7006(x - 1.5)^3, x належить [1.5, 2.3]\n",
            "Відрізок 4:\n",
            "S_3(x) = 1.86 + 1.122(x - 2.3) + 5.2181(x - 2.3)^2 + 2.4848(x - 2.3)^3, x належить [2.3, 3.0]\n"
          ]
        }
      ]
    },
    {
      "cell_type": "code",
      "source": [
        "import numpy as np\n",
        "from scipy.interpolate import CubicSpline\n",
        "import matplotlib.pyplot as plt\n",
        "\n",
        "x = np.array([0.5, 0.9, 1.5, 2.3, 3])\n",
        "y = np.array([1.54, 3.38, 2.53, 1.86, 4.35])\n",
        "\n",
        "# Побудова кубічного сплайна\n",
        "cs = CubicSpline(x, y)\n",
        "\n",
        "# Генерація нових точок для гладкого графіку сплайна\n",
        "x_new = np.linspace(np.min(x), np.max(x), 100)\n",
        "y_new = cs(x_new)\n",
        "\n",
        "# Роздрукувати значення сплайна\n",
        "print(\"Значення сплайна:\")\n",
        "for i in range(len(x_new)):\n",
        "    print(f\"x = {x_new[i]:.2f}, y = {y_new[i]:.3f}\")\n",
        "\n",
        "# Побудова графіку\n",
        "plt.figure(figsize=(8, 6))\n",
        "plt.plot(x, y, 'o', label='Точки')\n",
        "plt.plot(x_new, y_new, label='Кубічний сплайн')\n",
        "plt.xlabel('x')\n",
        "plt.ylabel('y')\n",
        "plt.title('Кубічний сплайн')\n",
        "plt.legend()\n",
        "plt.grid(True)\n",
        "plt.show()"
      ],
      "metadata": {
        "colab": {
          "base_uri": "https://localhost:8080/",
          "height": 1000
        },
        "id": "VtCBerF4TIJR",
        "outputId": "53de141d-e5f7-469f-c8fe-789ce64a1be9"
      },
      "execution_count": 6,
      "outputs": [
        {
          "output_type": "stream",
          "name": "stdout",
          "text": [
            "Значення сплайна:\n",
            "x = 0.50, y = 1.540\n",
            "x = 0.53, y = 1.755\n",
            "x = 0.55, y = 1.955\n",
            "x = 0.58, y = 2.139\n",
            "x = 0.60, y = 2.310\n",
            "x = 0.63, y = 2.466\n",
            "x = 0.65, y = 2.609\n",
            "x = 0.68, y = 2.738\n",
            "x = 0.70, y = 2.855\n",
            "x = 0.73, y = 2.959\n",
            "x = 0.75, y = 3.052\n",
            "x = 0.78, y = 3.133\n",
            "x = 0.80, y = 3.204\n",
            "x = 0.83, y = 3.264\n",
            "x = 0.85, y = 3.313\n",
            "x = 0.88, y = 3.353\n",
            "x = 0.90, y = 3.384\n",
            "x = 0.93, y = 3.407\n",
            "x = 0.95, y = 3.420\n",
            "x = 0.98, y = 3.426\n",
            "x = 1.01, y = 3.425\n",
            "x = 1.03, y = 3.416\n",
            "x = 1.06, y = 3.401\n",
            "x = 1.08, y = 3.380\n",
            "x = 1.11, y = 3.353\n",
            "x = 1.13, y = 3.321\n",
            "x = 1.16, y = 3.284\n",
            "x = 1.18, y = 3.243\n",
            "x = 1.21, y = 3.197\n",
            "x = 1.23, y = 3.149\n",
            "x = 1.26, y = 3.097\n",
            "x = 1.28, y = 3.042\n",
            "x = 1.31, y = 2.986\n",
            "x = 1.33, y = 2.927\n",
            "x = 1.36, y = 2.868\n",
            "x = 1.38, y = 2.807\n",
            "x = 1.41, y = 2.746\n",
            "x = 1.43, y = 2.685\n",
            "x = 1.46, y = 2.625\n",
            "x = 1.48, y = 2.565\n",
            "x = 1.51, y = 2.507\n",
            "x = 1.54, y = 2.450\n",
            "x = 1.56, y = 2.395\n",
            "x = 1.59, y = 2.342\n",
            "x = 1.61, y = 2.290\n",
            "x = 1.64, y = 2.241\n",
            "x = 1.66, y = 2.193\n",
            "x = 1.69, y = 2.148\n",
            "x = 1.71, y = 2.105\n",
            "x = 1.74, y = 2.063\n",
            "x = 1.76, y = 2.024\n",
            "x = 1.79, y = 1.988\n",
            "x = 1.81, y = 1.954\n",
            "x = 1.84, y = 1.922\n",
            "x = 1.86, y = 1.893\n",
            "x = 1.89, y = 1.866\n",
            "x = 1.91, y = 1.842\n",
            "x = 1.94, y = 1.821\n",
            "x = 1.96, y = 1.802\n",
            "x = 1.99, y = 1.787\n",
            "x = 2.02, y = 1.774\n",
            "x = 2.04, y = 1.765\n",
            "x = 2.07, y = 1.759\n",
            "x = 2.09, y = 1.755\n",
            "x = 2.12, y = 1.755\n",
            "x = 2.14, y = 1.759\n",
            "x = 2.17, y = 1.765\n",
            "x = 2.19, y = 1.776\n",
            "x = 2.22, y = 1.789\n",
            "x = 2.24, y = 1.807\n",
            "x = 2.27, y = 1.828\n",
            "x = 2.29, y = 1.852\n",
            "x = 2.32, y = 1.881\n",
            "x = 2.34, y = 1.913\n",
            "x = 2.37, y = 1.950\n",
            "x = 2.39, y = 1.990\n",
            "x = 2.42, y = 2.035\n",
            "x = 2.44, y = 2.083\n",
            "x = 2.47, y = 2.136\n",
            "x = 2.49, y = 2.193\n",
            "x = 2.52, y = 2.255\n",
            "x = 2.55, y = 2.321\n",
            "x = 2.57, y = 2.391\n",
            "x = 2.60, y = 2.467\n",
            "x = 2.62, y = 2.546\n",
            "x = 2.65, y = 2.631\n",
            "x = 2.67, y = 2.720\n",
            "x = 2.70, y = 2.814\n",
            "x = 2.72, y = 2.913\n",
            "x = 2.75, y = 3.018\n",
            "x = 2.77, y = 3.127\n",
            "x = 2.80, y = 3.241\n",
            "x = 2.82, y = 3.361\n",
            "x = 2.85, y = 3.486\n",
            "x = 2.87, y = 3.616\n",
            "x = 2.90, y = 3.751\n",
            "x = 2.92, y = 3.893\n",
            "x = 2.95, y = 4.039\n",
            "x = 2.97, y = 4.192\n",
            "x = 3.00, y = 4.350\n"
          ]
        },
        {
          "output_type": "display_data",
          "data": {
            "text/plain": [
              "<Figure size 800x600 with 1 Axes>"
            ],
            "image/png": "[encoded data removed]"
          },
          "metadata": {}
        }
      ]
    },
    {
      "cell_type": "code",
      "source": [],
      "metadata": {
        "id": "lDHKYzb4ThV2"
      },
      "execution_count": null,
      "outputs": []
    }
  ]
}