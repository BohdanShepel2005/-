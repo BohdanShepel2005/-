{
  "nbformat": 4,
  "nbformat_minor": 0,
  "metadata": {
    "colab": {
      "provenance": [],
      "authorship_tag": "ABX9TyNZkIoBq3z9yNxUt/KXQFKO",
      "include_colab_link": true
    },
    "kernelspec": {
      "name": "python3",
      "display_name": "Python 3"
    },
    "language_info": {
      "name": "python"
    }
  },
  "cells": [
    {
      "cell_type": "markdown",
      "metadata": {
        "id": "view-in-github",
        "colab_type": "text"
      },
      "source": [
        "<a href=\"https://colab.research.google.com/github/BohdanShepel2005/Numerical-Methods-of-Programming/blob/main/%D0%9B%D0%91_%E2%84%964.ipynb\" target=\"_parent\"><img src=\"https://colab.research.google.com/assets/colab-badge.svg\" alt=\"Open In Colab\"/></a>"
      ]
    },
    {
      "cell_type": "code",
      "source": [
        "import numpy as np\n",
        "\n",
        "# Задаємо матриці A і B\n",
        "A = np.array([[2, 3, 1], [-1, 1, 0], [1, 2, -1]])\n",
        "B = np.array([[1, 2, 1], [0, 1, 2], [3, 1, 1]])\n",
        "\n",
        "# Знайти матрицю C = AB - BA\n",
        "C = np.dot(A, B) - np.dot(B, A)\n",
        "\n",
        "print(\"Матриця C = AB - BA:\")\n",
        "print(C)\n",
        "\n",
        "# Задаємо матрицю A\n",
        "A = np.array([[0, 2, 0], [3, 4, 5], [6, 7, 8]])\n",
        "\n",
        "# Обчислюємо визначник матриці\n",
        "det_A = np.linalg.det(A)\n",
        "\n",
        "print(\"Визначник матриці A:\")\n",
        "print(det_A)\n",
        "\n",
        "# Задаємо нову матрицю\n",
        "A = np.array([[5, 8, -4], [6, 9, -5], [4, 7, -3]])\n",
        "\n",
        "# Підносимо матрицю A до квадрату (степінь 2)\n",
        "A_squared = np.linalg.matrix_power(A, 2)\n",
        "\n",
        "print(\"Матриця A піднесена до степеня 2:\")\n",
        "print(A_squared)\n",
        "\n",
        "# Знаходимо добуток матриць A і B\n",
        "prod_AB = np.dot(A, B)\n",
        "\n",
        "print(\"Добуток матриць A і B:\")\n",
        "print(prod_AB)\n",
        "\n",
        "# Знаходимо обернену матрицю\n",
        "A_inv = np.linalg.inv(A)\n",
        "\n",
        "print(\"Обернена матриця:\")\n",
        "print(A_inv)\n",
        "\n",
        "# Задаємо нову матрицю\n",
        "A_new = np.array([[2, 3, 4, 1], [1, 2, 3, 4], [3, 4, 1, 2], [4, 1, 2, 3]])\n",
        "\n",
        "# Обчислюємо визначник нової матриці\n",
        "det_A_new = np.linalg.det(A_new)\n",
        "\n",
        "print(\"Визначник нової матриці A_new:\")\n",
        "print(det_A_new)\n",
        "\n",
        "# Визначаємо ранг матриці\n",
        "rank_A = np.linalg.matrix_rank(A_new)\n",
        "\n",
        "print(\"Ранг матриці:\")\n",
        "print(rank_A)"
      ],
      "metadata": {
        "colab": {
          "base_uri": "https://localhost:8080/"
        },
        "id": "6pECoGnFj-DE",
        "outputId": "b3607202-e66f-414d-9de4-fb62b2ab816d"
      },
      "execution_count": null,
      "outputs": [
        {
          "output_type": "stream",
          "name": "stdout",
          "text": [
            "Матриця C = AB - BA:\n",
            "[[ 4  1  9]\n",
            " [-2 -6  3]\n",
            " [-8 -9  2]]\n",
            "Визначник матриці A:\n",
            "12.0\n",
            "Матриця A піднесена до степеня 2:\n",
            "[[ 57  84 -48]\n",
            " [ 64  94 -54]\n",
            " [ 50  74 -42]]\n",
            "Добуток матриць A і B:\n",
            "[[-7 14 17]\n",
            " [-9 16 19]\n",
            " [-5 12 15]]\n",
            "Обернена матриця:\n",
            "[[-1.50119988e+15  7.50599938e+14  7.50599938e+14]\n",
            " [ 3.75299969e+14 -1.87649984e+14 -1.87649984e+14]\n",
            " [-1.12589991e+15  5.62949953e+14  5.62949953e+14]]\n",
            "Визначник нової матриці A_new:\n",
            "-160.00000000000009\n",
            "Ранг матриці:\n",
            "4\n"
          ]
        }
      ]
    },
    {
      "cell_type": "code",
      "source": [
        "import numpy as np\n",
        "\n",
        "# Метод матриці\n",
        "def matrix_method(coefficients, constants):\n",
        "    inverse_matrix = np.linalg.inv(coefficients)\n",
        "    return np.dot(inverse_matrix, constants)\n",
        "\n",
        "# Метод Крамера\n",
        "def cramer_method(coefficients, constants):\n",
        "    det_coefficients = np.linalg.det(coefficients)\n",
        "    solutions = []\n",
        "    for i in range(len(coefficients)):\n",
        "        modified_coefficients = np.copy(coefficients)\n",
        "        modified_coefficients[:, i] = constants\n",
        "        solutions.append(round(np.linalg.det(modified_coefficients) / det_coefficients, 1))\n",
        "    return solutions\n",
        "\n",
        "# Метод Гауса\n",
        "def gauss_method(a, b):\n",
        "    n = len(b)\n",
        "    x = np.zeros(n)\n",
        "    for k in range(0, n-1):\n",
        "        for i in range(k+1, n):\n",
        "            if a[i, k] != 0.0:\n",
        "                lam = a[i, k] / a[k, k]\n",
        "                a[i, k+1:n] = a[i, k+1:n] - lam * a[k, k+1:n]\n",
        "                b[i] = b[i] - lam * b[k]\n",
        "    for k in range(n-1, -1, -1):\n",
        "        x[k] = (b[k] - np.dot(a[k, k+1:n], x[k+1:n])) / a[k, k]\n",
        "    if any(np.isnan(x)) or any(np.isinf(x)):\n",
        "        return None\n",
        "    else:\n",
        "        return x\n",
        "\n",
        "def main():\n",
        "    # Приклад матриці A та вектора B для розв'язку системи рівнянь Ax = B\n",
        "    A = np.array([[4, 1, 4], [1, 1, 2], [2, 1, 2]])\n",
        "    B = np.array([-2, -1, 0])\n",
        "\n",
        "    # Матричний метод\n",
        "    X_matrix = matrix_method(A, B)\n",
        "    print(\"Матричний метод:\", X_matrix)\n",
        "\n",
        "    # Метод Крамера\n",
        "    X_cramer = cramer_method(A, B)\n",
        "    print(\"Метод Крамера:\", X_cramer)\n",
        "\n",
        "    # Метод Гауса\n",
        "    X_gauss = gauss_method(A, B)\n",
        "    if X_gauss is not None:\n",
        "        print(\"Метод Гауса:\", X_gauss)\n",
        "    else:\n",
        "        print(\"Метод Гауса не має розв'язків\")\n",
        "\n",
        "if __name__ == \"__main__\":\n",
        "    main()"
      ],
      "metadata": {
        "colab": {
          "base_uri": "https://localhost:8080/"
        },
        "id": "TQPEBnRJl3Wo",
        "outputId": "c75d2919-276a-4353-80dc-5c384fd2e034"
      },
      "execution_count": null,
      "outputs": [
        {
          "output_type": "stream",
          "name": "stdout",
          "text": [
            "Матричний метод: [ 1.  2. -2.]\n",
            "Метод Крамера: [1.0, 2.0, -2.0]\n",
            "Метод Гауса не має розв'язків\n"
          ]
        },
        {
          "output_type": "stream",
          "name": "stderr",
          "text": [
            "<ipython-input-9-54711af132be>:29: RuntimeWarning: divide by zero encountered in scalar divide\n",
            "  x[k] = (b[k] - np.dot(a[k, k+1:n], x[k+1:n])) / a[k, k]\n"
          ]
        }
      ]
    },
    {
      "cell_type": "code",
      "source": [
        "import numpy as np\n",
        "import sympy as sp\n",
        "\n",
        "# Метод матриці\n",
        "def matrix_method(coefficients, constants):\n",
        "    inverse_matrix = np.linalg.inv(coefficients)\n",
        "    return np.dot(inverse_matrix, constants)\n",
        "\n",
        "# Метод Крамера\n",
        "def cramer_method(coefficients, constants):\n",
        "    det_coefficients = np.linalg.det(coefficients)\n",
        "    solutions = []\n",
        "    for i in range(len(coefficients)):\n",
        "        modified_coefficients = np.copy(coefficients)\n",
        "        modified_coefficients[:, i] = constants\n",
        "        solutions.append(round(np.linalg.det(modified_coefficients) / det_coefficients, 1))\n",
        "    return solutions\n",
        "\n",
        "# Метод Гауса\n",
        "def gauss_method(a, b):\n",
        "    n = len(b)\n",
        "    x = np.zeros(n)\n",
        "    for k in range(0, n-1):\n",
        "        for i in range(k+1, n):\n",
        "            if a[i, k] != 0.0:\n",
        "                lam = a[i, k] / a[k, k]\n",
        "                a[i, k+1:n] = a[i, k+1:n] - lam * a[k, k+1:n]\n",
        "                b[i] = b[i] - lam * b[k]\n",
        "    for k in range(n-1, -1, -1):\n",
        "        x[k] = (b[k] - np.dot(a[k, k+1:n], x[k+1:n])) / a[k, k]\n",
        "    if any(np.isnan(x)) or any(np.isinf(x)):\n",
        "        return None\n",
        "    else:\n",
        "        return x\n",
        "\n",
        "# Символьне розв'язання системи рівнянь\n",
        "def sympy_solve(coefficients, constants):\n",
        "    n = len(constants)\n",
        "    x = sp.symbols('x:'+str(n))\n",
        "    eqs = [sp.Eq(sum(coefficients[i, j] * x[j] for j in range(n)), constants[i]) for i in range(n)]\n",
        "    sol = sp.solve(eqs, x)\n",
        "    return [sol[var] for var in x]\n",
        "\n",
        "def main():\n",
        "    # Приклад матриці A та вектора B для розв'язку системи рівнянь Ax = B\n",
        "    A = np.array([[4, 1, 4], [1, 1, 2], [2, 1, 2]])\n",
        "    B = np.array([-2, -1, 0])\n",
        "\n",
        "    # Вивід системи рівнянь\n",
        "    x1, x2, x3 = sp.symbols('x1 x2 x3')\n",
        "    eq1 = sp.Eq(4*x1 + x2 + 4*x3, -2)\n",
        "    eq2 = sp.Eq(x1 + x2 + 2*x3, -1)\n",
        "    eq3 = sp.Eq(2*x1 + x2 + 2*x3, 0)\n",
        "    system_eqs = [eq1, eq2, eq3]\n",
        "\n",
        "    print(\"Система рівнянь:\")\n",
        "    for eq in system_eqs:\n",
        "        print(eq)\n",
        "\n",
        "    # Матричний метод\n",
        "    X_matrix = matrix_method(A, B)\n",
        "    print(\"Матричний метод:\", X_matrix)\n",
        "\n",
        "    # Метод Крамера\n",
        "    X_cramer = cramer_method(A, B)\n",
        "    print(\"Метод Крамера:\", X_cramer)\n",
        "\n",
        "    # Метод Гауса\n",
        "    X_gauss = gauss_method(A, B)\n",
        "    if X_gauss is not None:\n",
        "        print(\"Метод Гауса:\", X_gauss)\n",
        "    else:\n",
        "        print(\"Метод Гауса не має розв'язків\")\n",
        "\n",
        "    # Символьне розв'язання\n",
        "    X_sympy = sympy_solve(A, B)\n",
        "    print(\"Символьне розв'язання:\", X_sympy)\n",
        "\n",
        "if __name__ == \"__main__\":\n",
        "    main()"
      ],
      "metadata": {
        "id": "n9aPK0eSwIpE",
        "outputId": "6239b21c-8845-4f39-bdc1-e9ca196f18be",
        "colab": {
          "base_uri": "https://localhost:8080/"
        }
      },
      "execution_count": null,
      "outputs": [
        {
          "output_type": "stream",
          "name": "stdout",
          "text": [
            "Система рівнянь:\n",
            "Eq(4*x1 + x2 + 4*x3, -2)\n",
            "Eq(x1 + x2 + 2*x3, -1)\n",
            "Eq(2*x1 + x2 + 2*x3, 0)\n",
            "Матричний метод: [ 1.  2. -2.]\n",
            "Метод Крамера: [1.0, 2.0, -2.0]\n",
            "Метод Гауса не має розв'язків\n",
            "Символьне розв'язання: [1/2, -2, -1/2]\n"
          ]
        },
        {
          "output_type": "stream",
          "name": "stderr",
          "text": [
            "<ipython-input-1-b4b4bb713ea8>:30: RuntimeWarning: divide by zero encountered in scalar divide\n",
            "  x[k] = (b[k] - np.dot(a[k, k+1:n], x[k+1:n])) / a[k, k]\n"
          ]
        }
      ]
    },
    {
      "cell_type": "code",
      "source": [
        "import numpy as np\n",
        "\n",
        "def main(N, M):\n",
        "    # Генеруємо прямокутну матрицю з випадковими елементами\n",
        "    matrix = np.random.rand(N, M)\n",
        "\n",
        "    # Знаходимо середні значення для кожного рядка матриці\n",
        "    row_means = np.mean(matrix, axis=1)\n",
        "\n",
        "    # Знаходимо найнижче значення серед середніх значень рядків\n",
        "    min_mean = np.min(row_means)\n",
        "\n",
        "    return min_mean\n",
        "\n",
        "# Задаємо розміри матриці\n",
        "N = 5  # кількість рядків\n",
        "M = 3  # кількість стовпців\n",
        "\n",
        "# Викликаємо функцію та виводимо результат\n",
        "result = main(N, M)\n",
        "print(\"Найнижче значення серед середніх значень для кожного рядка матриці:\", result)"
      ],
      "metadata": {
        "colab": {
          "base_uri": "https://localhost:8080/"
        },
        "id": "KsePyCifE_2m",
        "outputId": "19db5a97-4d95-4ca0-8c77-0416ef2ec0f2"
      },
      "execution_count": null,
      "outputs": [
        {
          "output_type": "stream",
          "name": "stdout",
          "text": [
            "Найнижче значення серед середніх значень для кожного рядка матриці: 0.18062294728741293\n"
          ]
        }
      ]
    }
  ]
}