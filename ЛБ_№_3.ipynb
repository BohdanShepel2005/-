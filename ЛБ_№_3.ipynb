{
  "nbformat": 4,
  "nbformat_minor": 0,
  "metadata": {
    "colab": {
      "provenance": [],
      "authorship_tag": "ABX9TyP2W9xBbFjSMLPQHAhq0WyO",
      "include_colab_link": true
    },
    "kernelspec": {
      "name": "python3",
      "display_name": "Python 3"
    },
    "language_info": {
      "name": "python"
    }
  },
  "cells": [
    {
      "cell_type": "markdown",
      "metadata": {
        "id": "view-in-github",
        "colab_type": "text"
      },
      "source": [
        "<a href=\"https://colab.research.google.com/github/BohdanShepel2005/Numerical-Methods-of-Programming/blob/main/%D0%9B%D0%91_%E2%84%96_3.ipynb\" target=\"_parent\"><img src=\"https://colab.research.google.com/assets/colab-badge.svg\" alt=\"Open In Colab\"/></a>"
      ]
    },
    {
      "cell_type": "code",
      "execution_count": null,
      "metadata": {
        "colab": {
          "base_uri": "https://localhost:8080/"
        },
        "id": "RcjX5Z5BDjMG",
        "outputId": "6c5714b0-9acd-45ab-eb4b-a4516013ec00"
      },
      "outputs": [
        {
          "output_type": "stream",
          "name": "stdout",
          "text": [
            "Solution of a nonlinear equation on a segments  [(-1, 0), (1, 2)]\n",
            "Newton Method, x =  -0.6183\n",
            "Hybrid Method, x =  -0.6181\n",
            "Newton Method, x =  1.6182\n",
            "Hybrid Method, x =  1.6181\n"
          ]
        },
        {
          "output_type": "stream",
          "name": "stderr",
          "text": [
            "<ipython-input-2-a81b66b4fe24>:24: DeprecationWarning: scipy.misc.derivative is deprecated in SciPy v1.10.0; and will be completely removed in SciPy v1.12.0. You may consider using findiff: https://github.com/maroba/findiff or numdifftools: https://github.com/pbrod/numdifftools\n",
            "  df2 = nd.derivative(f, b, n=2)  # Getting the second derivative value at point b\n",
            "<ipython-input-2-a81b66b4fe24>:29: DeprecationWarning: scipy.misc.derivative is deprecated in SciPy v1.10.0; and will be completely removed in SciPy v1.12.0. You may consider using findiff: https://github.com/maroba/findiff or numdifftools: https://github.com/pbrod/numdifftools\n",
            "  df = nd.derivative(f, xi, n=1)  # Getting the first derivative value at point xi\n",
            "<ipython-input-2-a81b66b4fe24>:37: DeprecationWarning: scipy.misc.derivative is deprecated in SciPy v1.10.0; and will be completely removed in SciPy v1.12.0. You may consider using findiff: https://github.com/maroba/findiff or numdifftools: https://github.com/pbrod/numdifftools\n",
            "  if nd.derivative(f, a, n=1) * nd.derivative(f, a, n=2) > 0:\n",
            "<ipython-input-2-a81b66b4fe24>:47: DeprecationWarning: scipy.misc.derivative is deprecated in SciPy v1.10.0; and will be completely removed in SciPy v1.12.0. You may consider using findiff: https://github.com/maroba/findiff or numdifftools: https://github.com/pbrod/numdifftools\n",
            "  bi_1 = bi - f(bi) / nd.derivative(f, bi, n=1)\n"
          ]
        }
      ],
      "source": [
        "import numpy as np\n",
        "import scipy.misc as nd\n",
        "\n",
        "def f(x):\n",
        "    return 3*x**4 - 4*x**3 + x**2 - 2*x - 3\n",
        "eps=0.0001\n",
        "\n",
        "def find_segments():\n",
        "    search_range = np.arange(-100, 100, 1)\n",
        "\n",
        "    previous_x = None\n",
        "    segments = []\n",
        "\n",
        "    for x in search_range:\n",
        "        x = round(x, 4)\n",
        "        current_x = f(x)\n",
        "        if previous_x != None and previous_x * current_x < 0:\n",
        "            segments.append((a, x))\n",
        "        a = x\n",
        "        previous_x = current_x\n",
        "    return segments\n",
        "\n",
        "def newton(a, b, eps, f):\n",
        "    df2 = nd.derivative(f, b, n=2)  # Getting the second derivative value at point b\n",
        "    if f(b) * df2 > 0:\n",
        "        xi = b\n",
        "    else:\n",
        "        xi = a\n",
        "    df = nd.derivative(f, xi, n=1)  # Getting the first derivative value at point xi\n",
        "    xi_1 = xi - f(xi) / df\n",
        "    while abs(xi_1 - xi) > eps:  # Checking accuracy\n",
        "        xi = xi_1\n",
        "        xi_1 = xi - f(xi) / df\n",
        "    print('Newton Method, x = ', xi_1.round(4))\n",
        "\n",
        "def hybrid(a, b, eps, f):\n",
        "    if nd.derivative(f, a, n=1) * nd.derivative(f, a, n=2) > 0:\n",
        "        a0 = a\n",
        "        b0 = b\n",
        "    else:\n",
        "        a0 = b\n",
        "        b0 = a\n",
        "    ai = a0\n",
        "    bi = b0\n",
        "    while abs(ai - bi) > eps:\n",
        "        ai_1 = ai - f(ai) * (bi - ai) / (f(bi) - f(ai))\n",
        "        bi_1 = bi - f(bi) / nd.derivative(f, bi, n=1)\n",
        "        ai = ai_1\n",
        "        bi = bi_1\n",
        "    x = (ai_1 + bi_1) / 2\n",
        "    print('Hybrid Method, x = ', x.round(4))\n",
        "\n",
        "if __name__ == \"__main__\":\n",
        "  print ('Solution of a nonlinear equation on a segments ', find_segments())\n",
        "  newton (-1, 0,eps,f)\n",
        "  hybrid (-1,0,eps,f)\n",
        "  newton (1, 2,eps,f)\n",
        "  hybrid (1,2,eps,f)"
      ]
    }
  ]
}