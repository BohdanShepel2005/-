{
  "nbformat": 4,
  "nbformat_minor": 0,
  "metadata": {
    "colab": {
      "provenance": [],
      "authorship_tag": "ABX9TyNquVSyIjOGguPq7pXyWWNB",
      "include_colab_link": true
    },
    "kernelspec": {
      "name": "python3",
      "display_name": "Python 3"
    },
    "language_info": {
      "name": "python"
    }
  },
  "cells": [
    {
      "cell_type": "markdown",
      "metadata": {
        "id": "view-in-github",
        "colab_type": "text"
      },
      "source": [
        "<a href=\"https://colab.research.google.com/github/BohdanShepel2005/Numerical-Methods-of-Programming/blob/main/%D0%9B%D0%91%E2%84%962_(%D1%87%D0%B0%D1%81%D1%82%D0%B8%D0%BD%D0%B0_2).ipynb\" target=\"_parent\"><img src=\"https://colab.research.google.com/assets/colab-badge.svg\" alt=\"Open In Colab\"/></a>"
      ]
    },
    {
      "cell_type": "code",
      "execution_count": null,
      "metadata": {
        "colab": {
          "base_uri": "https://localhost:8080/"
        },
        "id": "LbvPfT41-zen",
        "outputId": "519cc1b0-a240-4a8e-e4a9-370cb85dc256"
      },
      "outputs": [
        {
          "output_type": "stream",
          "name": "stdout",
          "text": [
            "x=  0.99997  - Half division method\n"
          ]
        }
      ],
      "source": [
        "def f(x):\n",
        "    return 3 * pow(x, 4) - 4 * pow(x, 3) + pow(x, 2) - 2 * x - 3\n",
        "def rec(a, b, eps):\n",
        "    while abs(a - b) > eps:\n",
        "        if f(a) * f((a + b) / 2) < 0:\n",
        "            b = (a + b) / 2\n",
        "        else:\n",
        "            a = (a + b) / 2\n",
        "    x = (a + b) / 2\n",
        "    print('x= ', round(x, 5), ' - Half division method')\n",
        "a, b = 0., 1.\n",
        "eps = 0.0001\n",
        "rec(a, b, eps)"
      ]
    }
  ]
}